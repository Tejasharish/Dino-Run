{
 "cells": [
  {
   "cell_type": "code",
   "execution_count": 1,
   "metadata": {},
   "outputs": [
    {
     "name": "stderr",
     "output_type": "stream",
     "text": [
      "Using TensorFlow backend.\n"
     ]
    },
    {
     "name": "stdout",
     "output_type": "stream",
     "text": [
      "<class 'numpy.ndarray'>\n",
      "(6600, 1)\n"
     ]
    }
   ],
   "source": [
    "# train.py\n",
    "import tensorflow as tf\n",
    "from tensorflow.keras.models import Sequential\n",
    "from tensorflow.keras.layers import Dense, Activation, Conv2D, MaxPooling2D, Flatten, Dropout, BatchNormalization, ZeroPadding2D\n",
    "from tensorflow.keras.optimizers import Adam\n",
    "from tensorflow.keras.callbacks import EarlyStopping, TensorBoard\n",
    "import pickle\n",
    "import datetime\n",
    "from tensorflow.keras.regularizers import l2\n",
    "from tensorflow.keras.optimizers import Adam\n",
    "from tensorflow.keras.callbacks import EarlyStopping, TensorBoard\n",
    "from alexnet import alexnet\n",
    "import numpy as np\n",
    "import os\n",
    "from keras.utils.np_utils import to_categorical\n",
    "from keras.utils import to_categorical\n",
    "from tensorflow.keras.models import Sequential, save_model, load_model\n",
    "\n",
    "tensorboard = TensorBoard(log_dir = os.path.join(\"logs\",\"dino\",datetime.datetime.now().strftime(\"%Y%m%d-%H%M%S\")))\n",
    "\n",
    "np_load_old = np.load\n",
    "np.load = lambda *a,**k: np_load_old(*a, allow_pickle=True, **k)\n",
    "train_data = np.load('train.npy')\n",
    "np.load = np_load_old\n",
    "\n",
    "train = train_data\n",
    "\n",
    "print(type(train[0][0]))\n",
    "X = np.array([i[0] for i in train]).reshape(-1,300,150,1)\n",
    "Y = np.array([i[1] for i in train])\n",
    "\n",
    "\n",
    "\n",
    "\n",
    "# print(X.dtypes)\n",
    "# from sklearn.preprocessing import LabelEncoder, OneHotEncoder\n",
    "# labelencoder_y_1 = LabelEncoder()\n",
    "# Y = labelencoder_y_1.fit_transform(Y)\n",
    "\n",
    "print(Y.shape)"
   ]
  },
  {
   "cell_type": "code",
   "execution_count": 2,
   "metadata": {},
   "outputs": [
    {
     "name": "stdout",
     "output_type": "stream",
     "text": [
      "Train on 4950 samples, validate on 1650 samples\n",
      "Epoch 1/10\n",
      "4950/4950 [==============================] - 118s 24ms/sample - loss: 0.5779 - acc: 0.8364 - val_loss: 0.5279 - val_acc: 0.8903\n",
      "Epoch 2/10\n",
      "4950/4950 [==============================] - 105s 21ms/sample - loss: 0.3723 - acc: 0.8671 - val_loss: 0.4002 - val_acc: 0.8703\n",
      "Epoch 3/10\n",
      "4950/4950 [==============================] - 107s 22ms/sample - loss: 0.3262 - acc: 0.8844 - val_loss: 0.2540 - val_acc: 0.8964\n",
      "Epoch 4/10\n",
      "4950/4950 [==============================] - 108s 22ms/sample - loss: 0.3209 - acc: 0.8830 - val_loss: 0.3013 - val_acc: 0.8958\n",
      "Epoch 5/10\n",
      "4950/4950 [==============================] - 109s 22ms/sample - loss: 0.3173 - acc: 0.8885 - val_loss: 0.2683 - val_acc: 0.8873\n",
      "Epoch 6/10\n",
      "4950/4950 [==============================] - 38s 8ms/sample - loss: 0.2977 - acc: 0.8911 - val_loss: 0.2407 - val_acc: 0.9091\n",
      "Epoch 7/10\n",
      "4950/4950 [==============================] - 30s 6ms/sample - loss: 0.2825 - acc: 0.8941 - val_loss: 0.3357 - val_acc: 0.8588\n",
      "Epoch 8/10\n",
      "4950/4950 [==============================] - 30s 6ms/sample - loss: 0.2709 - acc: 0.9014 - val_loss: 0.2156 - val_acc: 0.9091\n",
      "Epoch 9/10\n",
      "4950/4950 [==============================] - 30s 6ms/sample - loss: 0.2666 - acc: 0.9002 - val_loss: 0.2816 - val_acc: 0.8982\n",
      "Epoch 10/10\n",
      "4950/4950 [==============================] - 30s 6ms/sample - loss: 0.2432 - acc: 0.9109 - val_loss: 0.2419 - val_acc: 0.9279\n"
     ]
    },
    {
     "data": {
      "text/plain": [
       "<tensorflow.python.keras.callbacks.History at 0x1a09419f550>"
      ]
     },
     "execution_count": 2,
     "metadata": {},
     "output_type": "execute_result"
    }
   ],
   "source": [
    "model = alexnet()\n",
    "model.fit(X, Y, batch_size=15, epochs=10, validation_split=0.25, callbacks=[tensorboard])\n",
    "\n"
   ]
  },
  {
   "cell_type": "code",
   "execution_count": 3,
   "metadata": {},
   "outputs": [],
   "source": [
    "\n",
    "model.save(\"model2.h5\")\n",
    "# filepath = './saved_model'\n",
    "# save_model(model)"
   ]
  }
 ],
 "metadata": {
  "kernelspec": {
   "display_name": "TensorFlow-GPU",
   "language": "python",
   "name": "tf"
  },
  "language_info": {
   "codemirror_mode": {
    "name": "ipython",
    "version": 3
   },
   "file_extension": ".py",
   "mimetype": "text/x-python",
   "name": "python",
   "nbconvert_exporter": "python",
   "pygments_lexer": "ipython3",
   "version": "3.7.0"
  }
 },
 "nbformat": 4,
 "nbformat_minor": 4
}
