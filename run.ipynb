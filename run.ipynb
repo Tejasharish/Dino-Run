{
 "cells": [
  {
   "cell_type": "code",
   "execution_count": null,
   "metadata": {
    "scrolled": false
   },
   "outputs": [],
   "source": [
    "import numpy as np\n",
    "from grabscreen import grab_screen\n",
    "import cv2\n",
    "import time\n",
    "from directkeys import PressKey,ReleaseKey,space\n",
    "from alexnet import alexnet\n",
    "from getkeys import key_check\n",
    "from tensorflow.keras.models import load_model\n",
    "\n",
    "import random\n",
    "t_time = 0.09\n",
    "\n",
    "def jump():\n",
    "\n",
    "    PressKey(space)\n",
    "    \n",
    "def nojump():\n",
    "\n",
    "    ReleaseKey(space)\n",
    "\n",
    "model = load_model(\"model1.h5\")\n",
    "\n",
    "def main():\n",
    "    last_time = time.time()\n",
    "    for i in list(range(4))[::-1]:\n",
    "        print(i+1)\n",
    "        time.sleep(1)\n",
    "\n",
    "    paused = False\n",
    "    while(True):\n",
    "        \n",
    "        if not paused:\n",
    "            \n",
    "            screen = grab_screen(region=(0,250,1800,850))\n",
    "            print('loop took {} seconds'.format(time.time()-last_time))\n",
    "            last_time = time.time()\n",
    "            screen = cv2.cvtColor(screen, cv2.COLOR_BGR2GRAY)\n",
    "            screen = cv2.resize(screen, (300,150))\n",
    "            screen = np.array(screen).astype(np.float64)\n",
    "\n",
    "            prediction = model.predict([screen.reshape(-1,300,150,1)])\n",
    "            moves = np.around(prediction)\n",
    "#             print(prediction)\n",
    "#             print(moves)\n",
    "\n",
    "            if moves == [1]:\n",
    "                jump()\n",
    "\n",
    "            elif moves == [0]:\n",
    "                nojump()\n",
    "\n",
    "        keys = key_check()\n",
    "\n",
    "\n",
    "        if 'T' in keys:                                  \n",
    "            if paused:                                 \n",
    "                paused = False\n",
    "                time.sleep(1)\n",
    "            else:\n",
    "                paused = True                           \n",
    "                ReleaseKey(space)\n",
    "               \n",
    "\n",
    "                time.sleep(1)\n",
    "\n",
    "main()            "
   ]
  },
  {
   "cell_type": "code",
   "execution_count": null,
   "metadata": {},
   "outputs": [],
   "source": []
  }
 ],
 "metadata": {
  "kernelspec": {
   "display_name": "TensorFlow-GPU",
   "language": "python",
   "name": "tf"
  },
  "language_info": {
   "codemirror_mode": {
    "name": "ipython",
    "version": 3
   },
   "file_extension": ".py",
   "mimetype": "text/x-python",
   "name": "python",
   "nbconvert_exporter": "python",
   "pygments_lexer": "ipython3",
   "version": "3.7.0"
  }
 },
 "nbformat": 4,
 "nbformat_minor": 4
}
